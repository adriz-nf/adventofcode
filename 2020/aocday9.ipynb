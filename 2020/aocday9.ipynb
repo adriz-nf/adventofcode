with open('day9input.txt') as file:
    data = file.readlines()
    data = [line.strip().split() for line in data]

print(data)